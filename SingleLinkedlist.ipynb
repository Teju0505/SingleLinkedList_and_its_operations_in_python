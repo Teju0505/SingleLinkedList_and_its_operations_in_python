{
  "nbformat": 4,
  "nbformat_minor": 0,
  "metadata": {
    "colab": {
      "provenance": []
    },
    "kernelspec": {
      "name": "python3",
      "display_name": "Python 3"
    },
    "language_info": {
      "name": "python"
    }
  },
  "cells": [
    {
      "cell_type": "code",
      "execution_count": null,
      "metadata": {
        "id": "1Ois6rL5jmWG"
      },
      "outputs": [],
      "source": [
        "class Node :\n",
        "  def __init__(self,data):\n",
        "    self.data = data\n",
        "    self.next = None\n",
        "class LL :\n",
        "  def __init__(self):\n",
        "    self.head = None\n",
        "  def create_list(self,n):\n",
        "    for i in range(n):\n",
        "      d = int(input(\"Enter the data: \"))\n",
        "      new_node = Node(d)\n",
        "      if(self.head is None):\n",
        "        self.head = new_node\n",
        "      else:\n",
        "        temp = self.head\n",
        "        while(temp.next is not None):\n",
        "          temp = temp.next\n",
        "        temp.next = new_node\n",
        "  def display(self):\n",
        "    if(self.head is None):\n",
        "      print('List is empty')\n",
        "    else :\n",
        "      temp = self.head\n",
        "      while(temp is not None):\n",
        "        print(temp.data,end = ' ')\n",
        "        temp = temp.next\n",
        "  def insert_at_beg(self):\n",
        "    d = int(input(\"Enter the new node's data: \"))\n",
        "    new_node = Node(d)\n",
        "    if(self.head is None):\n",
        "      self.head = new_node\n",
        "    else:\n",
        "      new_node.next = self.head;\n",
        "      self.head = new_node\n",
        "  def insert_at_end(self):\n",
        "    d = int(input('Enter the data of new node: '))\n",
        "    new_node = Node(d)\n",
        "    if(self.head is None):\n",
        "      self.head = new_node\n",
        "    else :\n",
        "      temp = self.head\n",
        "      while(temp.next is not None):\n",
        "        temp = temp.next\n",
        "      temp.next = new_node"
      ]
    },
    {
      "cell_type": "code",
      "source": [
        "ll = LL()\n",
        "ll.create_list(5)\n"
      ],
      "metadata": {
        "colab": {
          "base_uri": "https://localhost:8080/"
        },
        "id": "hbiCKFpWlEQK",
        "outputId": "c5a90cab-27c4-4d51-dad0-d61e8ecbc4ee"
      },
      "execution_count": null,
      "outputs": [
        {
          "name": "stdout",
          "output_type": "stream",
          "text": [
            "Enter the data: 1\n",
            "Enter the data: 2\n",
            "Enter the data: 3\n",
            "Enter the data: 4\n",
            "Enter the data: 5\n"
          ]
        }
      ]
    },
    {
      "cell_type": "code",
      "source": [
        "\n",
        "ll.display()"
      ],
      "metadata": {
        "colab": {
          "base_uri": "https://localhost:8080/"
        },
        "id": "Sd_aS0WUlNuK",
        "outputId": "886c395c-4a71-4e97-946d-5779a0c1b4ed"
      },
      "execution_count": null,
      "outputs": [
        {
          "output_type": "stream",
          "name": "stdout",
          "text": [
            "1 2 3 4 5 "
          ]
        }
      ]
    },
    {
      "cell_type": "code",
      "source": [
        "ll.insert_at_beg()"
      ],
      "metadata": {
        "id": "63PulAl2lTFz",
        "colab": {
          "base_uri": "https://localhost:8080/"
        },
        "outputId": "3297555f-f030-4e1d-f3ec-957cc7ce19fb"
      },
      "execution_count": null,
      "outputs": [
        {
          "name": "stdout",
          "output_type": "stream",
          "text": [
            "Enter the new node's data: 0\n"
          ]
        }
      ]
    },
    {
      "cell_type": "code",
      "source": [
        "ll.display()"
      ],
      "metadata": {
        "colab": {
          "base_uri": "https://localhost:8080/"
        },
        "id": "hcjaR5aXK8cr",
        "outputId": "2bd35875-bcca-4178-85db-4cb4fa83fc62"
      },
      "execution_count": null,
      "outputs": [
        {
          "output_type": "stream",
          "name": "stdout",
          "text": [
            "0 1 2 3 4 5 "
          ]
        }
      ]
    },
    {
      "cell_type": "code",
      "source": [
        "ll.insert_at_end()\n"
      ],
      "metadata": {
        "colab": {
          "base_uri": "https://localhost:8080/"
        },
        "id": "Eh_sDRI0K--O",
        "outputId": "9ea0b4ec-dd65-4a2d-f6ea-b96bbf95ce53"
      },
      "execution_count": null,
      "outputs": [
        {
          "name": "stdout",
          "output_type": "stream",
          "text": [
            "Enter the data of new node: 6\n"
          ]
        }
      ]
    },
    {
      "cell_type": "code",
      "source": [
        "ll.display()"
      ],
      "metadata": {
        "colab": {
          "base_uri": "https://localhost:8080/"
        },
        "id": "F1qWCgzFPGyq",
        "outputId": "2655c977-b575-4273-9a3a-65e4b40ef04e"
      },
      "execution_count": null,
      "outputs": [
        {
          "output_type": "stream",
          "name": "stdout",
          "text": [
            "0 1 2 3 4 5 6 "
          ]
        }
      ]
    },
    {
      "cell_type": "code",
      "source": [],
      "metadata": {
        "id": "U9ONp450P1Sc"
      },
      "execution_count": null,
      "outputs": []
    }
  ]
}